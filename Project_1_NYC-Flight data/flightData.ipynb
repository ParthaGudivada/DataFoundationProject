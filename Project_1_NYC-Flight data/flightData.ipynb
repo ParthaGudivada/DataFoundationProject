{
 "cells": [
  {
   "cell_type": "markdown",
   "metadata": {},
   "source": [
    "# Domain: Airlines\n",
    "\n",
    "## Project 01: Analyze NYC-Flight data\n",
    "\n",
    "    This dataset contains information about all flights that departed from NYC (e.g. EWR, JFK and LGA) \n",
    "    in 2013: 336,776 flights in total. The following are the types of question you can ask:\n",
    "\n",
    "|Name          |Description  |\n",
    "|------------------|-------------|\n",
    "|year |2013|\n",
    "|month | 1-12 |\n",
    "|day | Day of the month (1-31) |\n",
    "|dep_time | Departure times, local timezone |\n",
    "|sched_dep_time| Scheduled departure time\n",
    "|dep_delay |Departure delay, in minutes, Negative times represent early departures\n",
    "   |    arr_time |Arrival times, local timezone\n",
    "    |sched_arr-time |Scheduled departure time\n",
    "    |arr_delay | Arrival delay, in minutes, Negative times represent early arrivals\n",
    "    |carrier| Two letter carrier abbreviation\n",
    "    |flight | Flight number\n",
    "    |tailnum |Plane tail number\n",
    "    |origin, dest | Airport codes for origin and destination\n",
    "    |air_time| Amount of time spent in the air, in minutes.\n",
    "    |distance| Distance flown, in miles.\n",
    "    |hour, minute| Time of departure broken in to hour and mins.\n",
    "    |time_hour |Timestamp\n",
    "\n",
    "### Exploration ideas:\n",
    "    Departure delays\n",
    "    Best airports in terms of time departure %.\n",
    "    Aircraft speed analysis.\n",
    "    On time arrival % analysis.\n",
    "    Maximum number of flights headed to some particular destination. \n",
    "\n"
   ]
  },
  {
   "cell_type": "markdown",
   "metadata": {},
   "source": []
  },
  {
   "cell_type": "code",
   "execution_count": null,
   "metadata": {
    "collapsed": true
   },
   "outputs": [],
   "source": []
  }
 ],
 "metadata": {
  "kernelspec": {
   "display_name": "Python 3",
   "language": "python",
   "name": "python3"
  },
  "language_info": {
   "codemirror_mode": {
    "name": "ipython",
    "version": 3
   },
   "file_extension": ".py",
   "mimetype": "text/x-python",
   "name": "python",
   "nbconvert_exporter": "python",
   "pygments_lexer": "ipython3",
   "version": "3.6.2"
  }
 },
 "nbformat": 4,
 "nbformat_minor": 2
}
